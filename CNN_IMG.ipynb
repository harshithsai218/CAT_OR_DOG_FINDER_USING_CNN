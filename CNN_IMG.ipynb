{
 "cells": [
  {
   "cell_type": "code",
   "execution_count": null,
   "id": "5c48d983-8d26-4d22-a35d-34892c564705",
   "metadata": {},
   "outputs": [],
   "source": [
    "# This program allows us to access the images from the folder itself with out .csv or excel data it is runned in directly with the following extention '.png', '.jpg', '.jpeg', '.gif', '.bmp'"
   ]
  },
  {
   "cell_type": "code",
   "execution_count": 1,
   "id": "cc59c044-eb0f-4b72-800d-ca87c3afb02c",
   "metadata": {},
   "outputs": [],
   "source": [
    "import numpy as np\n",
    "import matplotlib.pyplot as plt\n",
    "import os\n",
    "from tensorflow.keras.models import Sequential\n",
    "from tensorflow.keras.layers import Conv2D, MaxPooling2D, Flatten, Dense\n",
    "from tensorflow.keras.preprocessing.image import ImageDataGenerator"
   ]
  },
  {
   "cell_type": "code",
   "execution_count": 2,
   "id": "5c039c72-55e7-42c0-ac8e-83a5f7967654",
   "metadata": {},
   "outputs": [],
   "source": [
    "# Define paths for your training and testing image folders\n",
    "train_data_dir = 'Give your folder location of training dataset'\n",
    "test_data_dir = 'Give your folder location of testing dataset'\n",
    "\n",
    "# Define image dimensions and batch size\n",
    "img_width, img_height = 100, 100\n",
    "batch_size = 64"
   ]
  },
  {
   "cell_type": "code",
   "execution_count": 3,
   "id": "84155f58-4cd5-4691-9a13-eafb1e0da50e",
   "metadata": {},
   "outputs": [],
   "source": [
    "# Data augmentation and normalization for training\n",
    "train_datagen = ImageDataGenerator(\n",
    "    rescale=1./255,\n",
    "    shear_range=0.2,\n",
    "    zoom_range=0.2,\n",
    "    horizontal_flip=True)"
   ]
  },
  {
   "cell_type": "code",
   "execution_count": 4,
   "id": "9961ef30-daef-4601-afa4-2911492da529",
   "metadata": {},
   "outputs": [],
   "source": [
    "# Only normalization for testing\n",
    "test_datagen = ImageDataGenerator(rescale=1./255)"
   ]
  },
  {
   "cell_type": "code",
   "execution_count": 5,
   "id": "9fe491ca-1994-4e5e-a29b-852affab0a2f",
   "metadata": {},
   "outputs": [
    {
     "name": "stdout",
     "output_type": "stream",
     "text": [
      "Found 24959 images belonging to 2 classes.\n"
     ]
    }
   ],
   "source": [
    "# Load and prepare training data\n",
    "train_generator = train_datagen.flow_from_directory(\n",
    "    train_data_dir,\n",
    "    target_size=(img_width, img_height),\n",
    "    batch_size=batch_size,\n",
    "    class_mode='binary')"
   ]
  },
  {
   "cell_type": "code",
   "execution_count": 6,
   "id": "4371adb4-565f-42f9-8d47-58f99ac53e02",
   "metadata": {},
   "outputs": [
    {
     "name": "stdout",
     "output_type": "stream",
     "text": [
      "Found 2023 images belonging to 2 classes.\n"
     ]
    }
   ],
   "source": [
    "# Load and prepare testing data\n",
    "test_generator = test_datagen.flow_from_directory(\n",
    "    test_data_dir,\n",
    "    target_size=(img_width, img_height),\n",
    "    batch_size=batch_size,\n",
    "    class_mode='binary')"
   ]
  },
  {
   "cell_type": "code",
   "execution_count": 7,
   "id": "7cce8ab0-aadf-4b4e-83f4-1d7b1855ad48",
   "metadata": {},
   "outputs": [
    {
     "name": "stderr",
     "output_type": "stream",
     "text": [
      "D:\\anaconda\\envs\\test_CNN\\lib\\site-packages\\keras\\src\\layers\\convolutional\\base_conv.py:107: UserWarning: Do not pass an `input_shape`/`input_dim` argument to a layer. When using Sequential models, prefer using an `Input(shape)` object as the first layer in the model instead.\n",
      "  super().__init__(activity_regularizer=activity_regularizer, **kwargs)\n"
     ]
    }
   ],
   "source": [
    "# Define the model\n",
    "model = Sequential()\n",
    "model.add(Conv2D(32, (3, 3), activation='relu', input_shape=(img_width, img_height, 3)))\n",
    "model.add(MaxPooling2D((2, 2)))\n",
    "model.add(Conv2D(32, (3, 3), activation='relu'))\n",
    "model.add(MaxPooling2D((2, 2)))\n",
    "model.add(Flatten())\n",
    "model.add(Dense(64, activation='relu'))\n",
    "model.add(Dense(1, activation='sigmoid'))"
   ]
  },
  {
   "cell_type": "code",
   "execution_count": 8,
   "id": "327d3516-c795-415d-8311-fd68d0cd2eba",
   "metadata": {},
   "outputs": [],
   "source": [
    "# Compile the model\n",
    "model.compile(loss='binary_crossentropy', optimizer='adam', metrics=['accuracy'])"
   ]
  },
  {
   "cell_type": "code",
   "execution_count": 9,
   "id": "88c4570e-4dce-4424-b3e0-2edc28ef9eb1",
   "metadata": {},
   "outputs": [
    {
     "name": "stdout",
     "output_type": "stream",
     "text": [
      "Epoch 1/50\n"
     ]
    },
    {
     "name": "stderr",
     "output_type": "stream",
     "text": [
      "D:\\anaconda\\envs\\test_CNN\\lib\\site-packages\\keras\\src\\trainers\\data_adapters\\py_dataset_adapter.py:121: UserWarning: Your `PyDataset` class should call `super().__init__(**kwargs)` in its constructor. `**kwargs` can include `workers`, `use_multiprocessing`, `max_queue_size`. Do not pass these arguments to `fit()`, as they will be ignored.\n",
      "  self._warn_if_super_not_called()\n"
     ]
    },
    {
     "name": "stdout",
     "output_type": "stream",
     "text": [
      "\u001b[1m279/390\u001b[0m \u001b[32m━━━━━━━━━━━━━━\u001b[0m\u001b[37m━━━━━━\u001b[0m \u001b[1m1:33\u001b[0m 843ms/step - accuracy: 0.5527 - loss: 0.7003"
     ]
    },
    {
     "name": "stderr",
     "output_type": "stream",
     "text": [
      "D:\\anaconda\\envs\\test_CNN\\lib\\site-packages\\PIL\\TiffImagePlugin.py:890: UserWarning: Truncated File Read\n",
      "  warnings.warn(str(msg))\n"
     ]
    },
    {
     "name": "stdout",
     "output_type": "stream",
     "text": [
      "\u001b[1m390/390\u001b[0m \u001b[32m━━━━━━━━━━━━━━━━━━━━\u001b[0m\u001b[37m\u001b[0m \u001b[1m353s\u001b[0m 885ms/step - accuracy: 0.5700 - loss: 0.6862 - val_accuracy: 0.7365 - val_loss: 0.5364\n",
      "Epoch 2/50\n",
      "\u001b[1m390/390\u001b[0m \u001b[32m━━━━━━━━━━━━━━━━━━━━\u001b[0m\u001b[37m\u001b[0m \u001b[1m159s\u001b[0m 402ms/step - accuracy: 0.7350 - loss: 0.5343 - val_accuracy: 0.7860 - val_loss: 0.4472\n",
      "Epoch 3/50\n",
      "\u001b[1m390/390\u001b[0m \u001b[32m━━━━━━━━━━━━━━━━━━━━\u001b[0m\u001b[37m\u001b[0m \u001b[1m162s\u001b[0m 408ms/step - accuracy: 0.7766 - loss: 0.4705 - val_accuracy: 0.8028 - val_loss: 0.4257\n",
      "Epoch 4/50\n",
      "\u001b[1m390/390\u001b[0m \u001b[32m━━━━━━━━━━━━━━━━━━━━\u001b[0m\u001b[37m\u001b[0m \u001b[1m161s\u001b[0m 408ms/step - accuracy: 0.7909 - loss: 0.4449 - val_accuracy: 0.8206 - val_loss: 0.3969\n",
      "Epoch 5/50\n",
      "\u001b[1m390/390\u001b[0m \u001b[32m━━━━━━━━━━━━━━━━━━━━\u001b[0m\u001b[37m\u001b[0m \u001b[1m158s\u001b[0m 399ms/step - accuracy: 0.8065 - loss: 0.4201 - val_accuracy: 0.8354 - val_loss: 0.3817\n",
      "Epoch 6/50\n",
      "\u001b[1m390/390\u001b[0m \u001b[32m━━━━━━━━━━━━━━━━━━━━\u001b[0m\u001b[37m\u001b[0m \u001b[1m156s\u001b[0m 394ms/step - accuracy: 0.8141 - loss: 0.4044 - val_accuracy: 0.8102 - val_loss: 0.4030\n",
      "Epoch 7/50\n",
      "\u001b[1m390/390\u001b[0m \u001b[32m━━━━━━━━━━━━━━━━━━━━\u001b[0m\u001b[37m\u001b[0m \u001b[1m156s\u001b[0m 394ms/step - accuracy: 0.8228 - loss: 0.3937 - val_accuracy: 0.8482 - val_loss: 0.3554\n",
      "Epoch 8/50\n",
      "\u001b[1m390/390\u001b[0m \u001b[32m━━━━━━━━━━━━━━━━━━━━\u001b[0m\u001b[37m\u001b[0m \u001b[1m156s\u001b[0m 394ms/step - accuracy: 0.8314 - loss: 0.3752 - val_accuracy: 0.8547 - val_loss: 0.3395\n",
      "Epoch 9/50\n",
      "\u001b[1m390/390\u001b[0m \u001b[32m━━━━━━━━━━━━━━━━━━━━\u001b[0m\u001b[37m\u001b[0m \u001b[1m151s\u001b[0m 381ms/step - accuracy: 0.8365 - loss: 0.3649 - val_accuracy: 0.8606 - val_loss: 0.3194\n",
      "Epoch 10/50\n",
      "\u001b[1m390/390\u001b[0m \u001b[32m━━━━━━━━━━━━━━━━━━━━\u001b[0m\u001b[37m\u001b[0m \u001b[1m156s\u001b[0m 395ms/step - accuracy: 0.8484 - loss: 0.3462 - val_accuracy: 0.8581 - val_loss: 0.3082\n",
      "Epoch 11/50\n",
      "\u001b[1m390/390\u001b[0m \u001b[32m━━━━━━━━━━━━━━━━━━━━\u001b[0m\u001b[37m\u001b[0m \u001b[1m154s\u001b[0m 390ms/step - accuracy: 0.8554 - loss: 0.3323 - val_accuracy: 0.8537 - val_loss: 0.3477\n",
      "Epoch 12/50\n",
      "\u001b[1m390/390\u001b[0m \u001b[32m━━━━━━━━━━━━━━━━━━━━\u001b[0m\u001b[37m\u001b[0m \u001b[1m156s\u001b[0m 393ms/step - accuracy: 0.8582 - loss: 0.3278 - val_accuracy: 0.8828 - val_loss: 0.2896\n",
      "Epoch 13/50\n",
      "\u001b[1m390/390\u001b[0m \u001b[32m━━━━━━━━━━━━━━━━━━━━\u001b[0m\u001b[37m\u001b[0m \u001b[1m157s\u001b[0m 396ms/step - accuracy: 0.8596 - loss: 0.3234 - val_accuracy: 0.8616 - val_loss: 0.3258\n",
      "Epoch 14/50\n",
      "\u001b[1m390/390\u001b[0m \u001b[32m━━━━━━━━━━━━━━━━━━━━\u001b[0m\u001b[37m\u001b[0m \u001b[1m154s\u001b[0m 389ms/step - accuracy: 0.8651 - loss: 0.3087 - val_accuracy: 0.8828 - val_loss: 0.2724\n",
      "Epoch 15/50\n",
      "\u001b[1m390/390\u001b[0m \u001b[32m━━━━━━━━━━━━━━━━━━━━\u001b[0m\u001b[37m\u001b[0m \u001b[1m156s\u001b[0m 395ms/step - accuracy: 0.8659 - loss: 0.3028 - val_accuracy: 0.8883 - val_loss: 0.2735\n",
      "Epoch 16/50\n",
      "\u001b[1m390/390\u001b[0m \u001b[32m━━━━━━━━━━━━━━━━━━━━\u001b[0m\u001b[37m\u001b[0m \u001b[1m157s\u001b[0m 397ms/step - accuracy: 0.8753 - loss: 0.2912 - val_accuracy: 0.8779 - val_loss: 0.2826\n",
      "Epoch 17/50\n",
      "\u001b[1m390/390\u001b[0m \u001b[32m━━━━━━━━━━━━━━━━━━━━\u001b[0m\u001b[37m\u001b[0m \u001b[1m156s\u001b[0m 394ms/step - accuracy: 0.8822 - loss: 0.2807 - val_accuracy: 0.8962 - val_loss: 0.2567\n",
      "Epoch 18/50\n",
      "\u001b[1m390/390\u001b[0m \u001b[32m━━━━━━━━━━━━━━━━━━━━\u001b[0m\u001b[37m\u001b[0m \u001b[1m152s\u001b[0m 385ms/step - accuracy: 0.8794 - loss: 0.2815 - val_accuracy: 0.8749 - val_loss: 0.2976\n",
      "Epoch 19/50\n",
      "\u001b[1m390/390\u001b[0m \u001b[32m━━━━━━━━━━━━━━━━━━━━\u001b[0m\u001b[37m\u001b[0m \u001b[1m153s\u001b[0m 386ms/step - accuracy: 0.8872 - loss: 0.2695 - val_accuracy: 0.8972 - val_loss: 0.2505\n",
      "Epoch 20/50\n",
      "\u001b[1m390/390\u001b[0m \u001b[32m━━━━━━━━━━━━━━━━━━━━\u001b[0m\u001b[37m\u001b[0m \u001b[1m156s\u001b[0m 395ms/step - accuracy: 0.8870 - loss: 0.2660 - val_accuracy: 0.9011 - val_loss: 0.2433\n",
      "Epoch 21/50\n",
      "\u001b[1m390/390\u001b[0m \u001b[32m━━━━━━━━━━━━━━━━━━━━\u001b[0m\u001b[37m\u001b[0m \u001b[1m156s\u001b[0m 394ms/step - accuracy: 0.8936 - loss: 0.2540 - val_accuracy: 0.8863 - val_loss: 0.2626\n",
      "Epoch 22/50\n",
      "\u001b[1m390/390\u001b[0m \u001b[32m━━━━━━━━━━━━━━━━━━━━\u001b[0m\u001b[37m\u001b[0m \u001b[1m157s\u001b[0m 395ms/step - accuracy: 0.8974 - loss: 0.2472 - val_accuracy: 0.9150 - val_loss: 0.2163\n",
      "Epoch 23/50\n",
      "\u001b[1m390/390\u001b[0m \u001b[32m━━━━━━━━━━━━━━━━━━━━\u001b[0m\u001b[37m\u001b[0m \u001b[1m155s\u001b[0m 392ms/step - accuracy: 0.9003 - loss: 0.2415 - val_accuracy: 0.9204 - val_loss: 0.2051\n",
      "Epoch 24/50\n",
      "\u001b[1m390/390\u001b[0m \u001b[32m━━━━━━━━━━━━━━━━━━━━\u001b[0m\u001b[37m\u001b[0m \u001b[1m155s\u001b[0m 393ms/step - accuracy: 0.9016 - loss: 0.2420 - val_accuracy: 0.9165 - val_loss: 0.2139\n",
      "Epoch 25/50\n",
      "\u001b[1m390/390\u001b[0m \u001b[32m━━━━━━━━━━━━━━━━━━━━\u001b[0m\u001b[37m\u001b[0m \u001b[1m156s\u001b[0m 393ms/step - accuracy: 0.9057 - loss: 0.2272 - val_accuracy: 0.9145 - val_loss: 0.2237\n",
      "Epoch 26/50\n",
      "\u001b[1m390/390\u001b[0m \u001b[32m━━━━━━━━━━━━━━━━━━━━\u001b[0m\u001b[37m\u001b[0m \u001b[1m190s\u001b[0m 481ms/step - accuracy: 0.9059 - loss: 0.2281 - val_accuracy: 0.9283 - val_loss: 0.1897\n",
      "Epoch 27/50\n",
      "\u001b[1m390/390\u001b[0m \u001b[32m━━━━━━━━━━━━━━━━━━━━\u001b[0m\u001b[37m\u001b[0m \u001b[1m153s\u001b[0m 388ms/step - accuracy: 0.9071 - loss: 0.2251 - val_accuracy: 0.9090 - val_loss: 0.2171\n",
      "Epoch 28/50\n",
      "\u001b[1m390/390\u001b[0m \u001b[32m━━━━━━━━━━━━━━━━━━━━\u001b[0m\u001b[37m\u001b[0m \u001b[1m155s\u001b[0m 392ms/step - accuracy: 0.9100 - loss: 0.2187 - val_accuracy: 0.9204 - val_loss: 0.2076\n",
      "Epoch 29/50\n",
      "\u001b[1m390/390\u001b[0m \u001b[32m━━━━━━━━━━━━━━━━━━━━\u001b[0m\u001b[37m\u001b[0m \u001b[1m154s\u001b[0m 390ms/step - accuracy: 0.9129 - loss: 0.2123 - val_accuracy: 0.9239 - val_loss: 0.1935\n",
      "Epoch 30/50\n",
      "\u001b[1m390/390\u001b[0m \u001b[32m━━━━━━━━━━━━━━━━━━━━\u001b[0m\u001b[37m\u001b[0m \u001b[1m153s\u001b[0m 386ms/step - accuracy: 0.9150 - loss: 0.2087 - val_accuracy: 0.9283 - val_loss: 0.1779\n",
      "Epoch 31/50\n",
      "\u001b[1m390/390\u001b[0m \u001b[32m━━━━━━━━━━━━━━━━━━━━\u001b[0m\u001b[37m\u001b[0m \u001b[1m155s\u001b[0m 391ms/step - accuracy: 0.9131 - loss: 0.2086 - val_accuracy: 0.9308 - val_loss: 0.1780\n",
      "Epoch 32/50\n",
      "\u001b[1m390/390\u001b[0m \u001b[32m━━━━━━━━━━━━━━━━━━━━\u001b[0m\u001b[37m\u001b[0m \u001b[1m155s\u001b[0m 390ms/step - accuracy: 0.9214 - loss: 0.1904 - val_accuracy: 0.9338 - val_loss: 0.1816\n",
      "Epoch 33/50\n",
      "\u001b[1m390/390\u001b[0m \u001b[32m━━━━━━━━━━━━━━━━━━━━\u001b[0m\u001b[37m\u001b[0m \u001b[1m157s\u001b[0m 395ms/step - accuracy: 0.9236 - loss: 0.1914 - val_accuracy: 0.9021 - val_loss: 0.2436\n",
      "Epoch 34/50\n",
      "\u001b[1m390/390\u001b[0m \u001b[32m━━━━━━━━━━━━━━━━━━━━\u001b[0m\u001b[37m\u001b[0m \u001b[1m154s\u001b[0m 389ms/step - accuracy: 0.9200 - loss: 0.1988 - val_accuracy: 0.9506 - val_loss: 0.1499\n",
      "Epoch 35/50\n",
      "\u001b[1m390/390\u001b[0m \u001b[32m━━━━━━━━━━━━━━━━━━━━\u001b[0m\u001b[37m\u001b[0m \u001b[1m157s\u001b[0m 397ms/step - accuracy: 0.9261 - loss: 0.1857 - val_accuracy: 0.9402 - val_loss: 0.1605\n",
      "Epoch 36/50\n",
      "\u001b[1m390/390\u001b[0m \u001b[32m━━━━━━━━━━━━━━━━━━━━\u001b[0m\u001b[37m\u001b[0m \u001b[1m148s\u001b[0m 372ms/step - accuracy: 0.9242 - loss: 0.1868 - val_accuracy: 0.9432 - val_loss: 0.1557\n",
      "Epoch 37/50\n",
      "\u001b[1m390/390\u001b[0m \u001b[32m━━━━━━━━━━━━━━━━━━━━\u001b[0m\u001b[37m\u001b[0m \u001b[1m144s\u001b[0m 365ms/step - accuracy: 0.9305 - loss: 0.1695 - val_accuracy: 0.9263 - val_loss: 0.1827\n",
      "Epoch 38/50\n",
      "\u001b[1m390/390\u001b[0m \u001b[32m━━━━━━━━━━━━━━━━━━━━\u001b[0m\u001b[37m\u001b[0m \u001b[1m145s\u001b[0m 365ms/step - accuracy: 0.9275 - loss: 0.1791 - val_accuracy: 0.9441 - val_loss: 0.1480\n",
      "Epoch 39/50\n",
      "\u001b[1m390/390\u001b[0m \u001b[32m━━━━━━━━━━━━━━━━━━━━\u001b[0m\u001b[37m\u001b[0m \u001b[1m146s\u001b[0m 368ms/step - accuracy: 0.9305 - loss: 0.1669 - val_accuracy: 0.9436 - val_loss: 0.1464\n",
      "Epoch 40/50\n",
      "\u001b[1m390/390\u001b[0m \u001b[32m━━━━━━━━━━━━━━━━━━━━\u001b[0m\u001b[37m\u001b[0m \u001b[1m153s\u001b[0m 386ms/step - accuracy: 0.9308 - loss: 0.1705 - val_accuracy: 0.9481 - val_loss: 0.1426\n",
      "Epoch 41/50\n",
      "\u001b[1m390/390\u001b[0m \u001b[32m━━━━━━━━━━━━━━━━━━━━\u001b[0m\u001b[37m\u001b[0m \u001b[1m145s\u001b[0m 365ms/step - accuracy: 0.9355 - loss: 0.1635 - val_accuracy: 0.9506 - val_loss: 0.1306\n",
      "Epoch 42/50\n",
      "\u001b[1m390/390\u001b[0m \u001b[32m━━━━━━━━━━━━━━━━━━━━\u001b[0m\u001b[37m\u001b[0m \u001b[1m141s\u001b[0m 355ms/step - accuracy: 0.9337 - loss: 0.1622 - val_accuracy: 0.9382 - val_loss: 0.1593\n",
      "Epoch 43/50\n",
      "\u001b[1m390/390\u001b[0m \u001b[32m━━━━━━━━━━━━━━━━━━━━\u001b[0m\u001b[37m\u001b[0m \u001b[1m146s\u001b[0m 368ms/step - accuracy: 0.9342 - loss: 0.1659 - val_accuracy: 0.9486 - val_loss: 0.1360\n",
      "Epoch 44/50\n",
      "\u001b[1m390/390\u001b[0m \u001b[32m━━━━━━━━━━━━━━━━━━━━\u001b[0m\u001b[37m\u001b[0m \u001b[1m141s\u001b[0m 355ms/step - accuracy: 0.9402 - loss: 0.1527 - val_accuracy: 0.9412 - val_loss: 0.1592\n",
      "Epoch 45/50\n",
      "\u001b[1m390/390\u001b[0m \u001b[32m━━━━━━━━━━━━━━━━━━━━\u001b[0m\u001b[37m\u001b[0m \u001b[1m143s\u001b[0m 360ms/step - accuracy: 0.9401 - loss: 0.1509 - val_accuracy: 0.9496 - val_loss: 0.1262\n",
      "Epoch 46/50\n",
      "\u001b[1m390/390\u001b[0m \u001b[32m━━━━━━━━━━━━━━━━━━━━\u001b[0m\u001b[37m\u001b[0m \u001b[1m146s\u001b[0m 369ms/step - accuracy: 0.9395 - loss: 0.1528 - val_accuracy: 0.9006 - val_loss: 0.2511\n",
      "Epoch 47/50\n",
      "\u001b[1m390/390\u001b[0m \u001b[32m━━━━━━━━━━━━━━━━━━━━\u001b[0m\u001b[37m\u001b[0m \u001b[1m142s\u001b[0m 356ms/step - accuracy: 0.9380 - loss: 0.1584 - val_accuracy: 0.9555 - val_loss: 0.1186\n",
      "Epoch 48/50\n",
      "\u001b[1m390/390\u001b[0m \u001b[32m━━━━━━━━━━━━━━━━━━━━\u001b[0m\u001b[37m\u001b[0m \u001b[1m141s\u001b[0m 356ms/step - accuracy: 0.9441 - loss: 0.1422 - val_accuracy: 0.9511 - val_loss: 0.1266\n",
      "Epoch 49/50\n",
      "\u001b[1m390/390\u001b[0m \u001b[32m━━━━━━━━━━━━━━━━━━━━\u001b[0m\u001b[37m\u001b[0m \u001b[1m143s\u001b[0m 363ms/step - accuracy: 0.9445 - loss: 0.1419 - val_accuracy: 0.9422 - val_loss: 0.1552\n",
      "Epoch 50/50\n",
      "\u001b[1m390/390\u001b[0m \u001b[32m━━━━━━━━━━━━━━━━━━━━\u001b[0m\u001b[37m\u001b[0m \u001b[1m144s\u001b[0m 363ms/step - accuracy: 0.9412 - loss: 0.1463 - val_accuracy: 0.9540 - val_loss: 0.1170\n"
     ]
    },
    {
     "data": {
      "text/plain": [
       "<keras.src.callbacks.history.History at 0x2164696ad30>"
      ]
     },
     "execution_count": 9,
     "metadata": {},
     "output_type": "execute_result"
    }
   ],
   "source": [
    "# Train the mode\n",
    "model.fit(train_generator, epochs=50, validation_data=test_generator)"
   ]
  },
  {
   "cell_type": "code",
   "execution_count": 10,
   "id": "c9489bb2-db04-41f8-b526-fe7db99f7789",
   "metadata": {},
   "outputs": [
    {
     "name": "stdout",
     "output_type": "stream",
     "text": [
      "\u001b[1m32/32\u001b[0m \u001b[32m━━━━━━━━━━━━━━━━━━━━\u001b[0m\u001b[37m\u001b[0m \u001b[1m4s\u001b[0m 138ms/step - accuracy: 0.9563 - loss: 0.1138\n"
     ]
    },
    {
     "data": {
      "text/plain": [
       "[0.11700502038002014, 0.9540286660194397]"
      ]
     },
     "execution_count": 10,
     "metadata": {},
     "output_type": "execute_result"
    }
   ],
   "source": [
    "model.evaluate(test_generator)"
   ]
  },
  {
   "cell_type": "code",
   "execution_count": 254,
   "id": "ba71cefb-4e29-467b-a2de-55eacd599857",
   "metadata": {},
   "outputs": [
    {
     "data": {
      "image/png": "[encoded data removed]",
      "text/plain": [
       "<Figure size 640x480 with 1 Axes>"
      ]
     },
     "metadata": {},
     "output_type": "display_data"
    },
    {
     "name": "stdout",
     "output_type": "stream",
     "text": [
      "\u001b[1m1/1\u001b[0m \u001b[32m━━━━━━━━━━━━━━━━━━━━\u001b[0m\u001b[37m\u001b[0m \u001b[1m0s\u001b[0m 45ms/step\n",
      "[[0.98868865]]\n",
      "Our model says it is a: dog\n"
     ]
    }
   ],
   "source": [
    "from tensorflow.keras.preprocessing import image\n",
    "import random\n",
    "#here when we give the address of the folder which contains photos of cats and dogs which are picked randomly by the \"Random function\" .\n",
    "test_folder_path = 'Give your folder location of test data set'\n",
    "test_image_files = os.listdir(test_folder_path)\n",
    "test_image_files = [file for file in test_image_files if file.lower().endswith(('.png', '.jpg', '.jpeg', '.gif', '.bmp'))]\n",
    "random_image_file = random.choice(test_image_files)\n",
    "\n",
    "random_image_path = os.path.join(test_folder_path, random_image_file)\n",
    "\n",
    "\n",
    "img = image.load_img(random_image_path, target_size=(img_width, img_height))\n",
    "img_array = image.img_to_array(img)\n",
    "plt.imshow(img)\n",
    "plt.show()\n",
    "img_array = img_array.reshape((1, img_width, img_height, 3))\n",
    "img_array = img_array / 255.0\n",
    "\n",
    "# Make predictions\n",
    "pred = model.predict(img_array)\n",
    "print(pred)\n",
    "pred_class = \"dog\" if pred > 0.5 else \"cat\"\n",
    "print(\"Our model says it is a:\", pred_class)\n"
   ]
  }
 ],
 "metadata": {
  "kernelspec": {
   "display_name": "Python 3 (ipykernel)",
   "language": "python",
   "name": "python3"
  },
  "language_info": {
   "codemirror_mode": {
    "name": "ipython",
    "version": 3
   },
   "file_extension": ".py",
   "mimetype": "text/x-python",
   "name": "python",
   "nbconvert_exporter": "python",
   "pygments_lexer": "ipython3",
   "version": "3.9.19"
  }
 },
 "nbformat": 4,
 "nbformat_minor": 5
}
